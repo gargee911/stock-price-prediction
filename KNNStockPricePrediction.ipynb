{
 "cells": [
  {
   "cell_type": "code",
   "execution_count": 36,
   "id": "d1d87cc9-6b7b-406b-a370-d7a1d9e3d76c",
   "metadata": {},
   "outputs": [
    {
     "name": "stdout",
     "output_type": "stream",
     "text": [
      "Company Sector :  Financial Services\n",
      "Price Earnings Ratio :  19.521059\n",
      " Company Beta :  0.833\n"
     ]
    }
   ],
   "source": [
    "import yfinance as yahooFinance\n",
    " \n",
    "GetFacebookInformation = yahooFinance.Ticker(\"HDFCBANK.NS\")\n",
    " \n",
    "# display Company Sector\n",
    "print(\"Company Sector : \", GetFacebookInformation.info['sector'])\n",
    " \n",
    "# display Price Earnings Ratio\n",
    "print(\"Price Earnings Ratio : \", GetFacebookInformation.info['trailingPE'])\n",
    " \n",
    "# display Company Beta\n",
    "print(\" Company Beta : \", GetFacebookInformation.info['beta'])"
   ]
  },
  {
   "cell_type": "code",
   "execution_count": 38,
   "id": "6cd76956-3b76-4bc7-b465-3ca19cd07592",
   "metadata": {},
   "outputs": [
    {
     "name": "stdout",
     "output_type": "stream",
     "text": [
      "address1 : HDFC Bank House\n",
      "address2 : Shiv Sagar Estate Dr Annie Besant Road Worli\n",
      "city : Mumbai\n",
      "zip : 400018\n",
      "country : India\n",
      "phone : 91 22 6652 1000\n",
      "website : https://www.hdfcbank.com\n",
      "industry : Banks - Regional\n",
      "industryKey : banks-regional\n",
      "industryDisp : Banks - Regional\n",
      "sector : Financial Services\n",
      "sectorKey : financial-services\n",
      "sectorDisp : Financial Services\n",
      "longBusinessSummary : HDFC Bank Limited engages in the provision of banking and financial services to individuals and businesses in India, Bahrain, Hong Kong, Singapore, and Dubai. The company operates in three segments: Treasury, Retail Banking, Wholesale Banking, and Other Banking Services. It accepts savings, salary, current, rural, public provident fund, pension, and demat accounts; fixed and recurring deposits; and safe deposit lockers, as well as offshore accounts and deposits, and overdrafts against fixed deposits. The company also provides personal, home, car, two-wheeler, business, doctor, educational, gold, consumer, and rural loans; loans against properties, securities, mutual funds, rental receivables, and assets; loans for professionals; government sponsored programs; and loans on credit card, as well as working capital and commercial/construction equipment finance, healthcare/medical equipment and commercial vehicle finance, dealer finance, and term loans. In addition, it offers credit, debit, prepaid, and forex cards; payment and collection, export, import, remittance, bank guarantee, letter of credit, trade, hedging, and merchant and cash management services; insurance and investment products. Further, the company provides short term finance, bill discounting, structured finance, export credit, loan repayment, and documents collection services; online and wholesale, mobile, and phone banking services; unified payment interface, immediate payment, national electronic funds transfer, and real time gross settlement services; and channel financing, vendor financing, reimbursement account, money market, derivatives, employee trusts, cash surplus corporates, tax payment, and bankers to rights/public issue services, as well as financial solutions for supply chain partners and agricultural customers. It operates branches and automated teller machines in various cities/towns. The company was incorporated in 1994 and is headquartered in Mumbai, India.\n",
      "fullTimeEmployees : 206758\n",
      "companyOfficers : [{'maxAge': 1, 'name': 'Mr. Sashidhar  Jagdishan', 'age': 58, 'title': 'MD, CEO & Director', 'yearBorn': 1965, 'fiscalYear': 2024, 'totalPay': 107714372, 'exercisedValue': 0, 'unexercisedValue': 0}, {'maxAge': 1, 'name': 'Mr. Bhavesh Chandulal Zaveri', 'age': 57, 'title': 'Group Head of Operations, ATM, Cash Management Product & Executive Director', 'yearBorn': 1966, 'fiscalYear': 2024, 'totalPay': 42348492, 'exercisedValue': 0, 'unexercisedValue': 0}, {'maxAge': 1, 'name': 'Mr. Kaizad Maneck Bharucha', 'age': 58, 'title': 'Deputy MD & Director', 'yearBorn': 1965, 'fiscalYear': 2024, 'totalPay': 111285459, 'exercisedValue': 0, 'unexercisedValue': 0}, {'maxAge': 1, 'name': 'Mr. Vedanthachari Srinivasa Rangan', 'age': 63, 'title': 'Executive Whole-Time Director', 'yearBorn': 1960, 'fiscalYear': 2024, 'totalPay': 44231714, 'exercisedValue': 0, 'unexercisedValue': 0}, {'maxAge': 1, 'name': 'Mr. Srinivasan  Vaidyanathan', 'age': 59, 'title': 'Chief Financial Officer', 'yearBorn': 1964, 'fiscalYear': 2024, 'totalPay': 30179680, 'exercisedValue': 0, 'unexercisedValue': 0}, {'maxAge': 1, 'name': 'Mr. Rakesh K. Singh', 'age': 53, 'title': 'Group Head of Invst. Bank., Private Bank., Inter. Bank., Digi. Ecosystems & BaaS', 'yearBorn': 1970, 'fiscalYear': 2024, 'exercisedValue': 0, 'unexercisedValue': 0}, {'maxAge': 1, 'name': 'Mr. Ramesh  Lakshminarayanan', 'age': 52, 'title': 'Chief Information Officer & Group Head of IT', 'yearBorn': 1971, 'fiscalYear': 2024, 'exercisedValue': 0, 'unexercisedValue': 0}, {'maxAge': 1, 'name': 'Mr. Ajit Subhas Shetty', 'title': 'Investor Relations Officer', 'fiscalYear': 2024, 'exercisedValue': 0, 'unexercisedValue': 0}, {'maxAge': 1, 'name': 'Mr. Rakesh Kumar Rajput', 'age': 53, 'title': 'Chief Compliance Officer', 'yearBorn': 1970, 'fiscalYear': 2024, 'exercisedValue': 0, 'unexercisedValue': 0}, {'maxAge': 1, 'name': 'Mr. Sudhir Kumar Jha', 'age': 56, 'title': 'Head & Group General Counsel', 'yearBorn': 1967, 'fiscalYear': 2024, 'exercisedValue': 0, 'unexercisedValue': 0}]\n",
      "compensationAsOfEpochDate : 1735603200\n",
      "maxAge : 86400\n",
      "priceHint : 2\n",
      "previousClose : 1766.3\n",
      "open : 1772.0\n",
      "dayLow : 1719.6\n",
      "dayHigh : 1775.0\n",
      "regularMarketPreviousClose : 1766.3\n",
      "regularMarketOpen : 1772.0\n",
      "regularMarketDayLow : 1719.6\n",
      "regularMarketDayHigh : 1775.0\n",
      "dividendRate : 19.5\n",
      "dividendYield : 0.011\n",
      "exDividendDate : 1715299200\n",
      "payoutRatio : 0.2152\n",
      "fiveYearAvgDividendYield : 0.67\n",
      "beta : 0.833\n",
      "trailingPE : 19.521059\n",
      "forwardPE : 17.892279\n",
      "volume : 7948153\n",
      "regularMarketVolume : 7948153\n",
      "averageVolume : 18654668\n",
      "averageVolume10days : 12831981\n",
      "averageDailyVolume10Day : 12831981\n",
      "bid : 1725.25\n",
      "ask : 1724.15\n",
      "marketCap : 13174847832064\n",
      "fiftyTwoWeekLow : 1363.55\n",
      "fiftyTwoWeekHigh : 1794.0\n",
      "priceToSalesTrailing12Months : 4.7716613\n",
      "fiftyDayAverage : 1703.778\n",
      "twoHundredDayAverage : 1580.695\n",
      "currency : INR\n",
      "enterpriseValue : 17606545244160\n",
      "profitMargins : 0.25056\n",
      "floatShares : 7578068585\n",
      "sharesOutstanding : 7641580032\n",
      "heldPercentInsiders : 0.01672\n",
      "heldPercentInstitutions : 0.5165\n",
      "impliedSharesOutstanding : 7641580032\n",
      "bookValue : 632.437\n",
      "priceToBook : 2.7261212\n",
      "lastFiscalYearEnd : 1711843200\n",
      "nextFiscalYearEnd : 1743379200\n",
      "mostRecentQuarter : 1727654400\n",
      "earningsQuarterlyGrowth : 0.398\n",
      "netIncomeToCommon : 691810074624\n",
      "trailingEps : 88.32\n",
      "forwardEps : 96.36\n",
      "lastSplitFactor : 2:1\n",
      "lastSplitDate : 1568851200\n",
      "enterpriseToRevenue : 6.377\n",
      "52WeekChange : 0.18639171\n",
      "SandP52WeekChange : 0.3336166\n",
      "lastDividendValue : 19.5\n",
      "lastDividendDate : 1715299200\n",
      "exchange : NSI\n",
      "quoteType : EQUITY\n",
      "symbol : HDFCBANK.NS\n",
      "underlyingSymbol : HDFCBANK.NS\n",
      "shortName : HDFC BANK LTD\n",
      "longName : HDFC Bank Limited\n",
      "firstTradeDateEpochUtc : 820467900\n",
      "timeZoneFullName : Asia/Kolkata\n",
      "timeZoneShortName : IST\n",
      "uuid : c21935dd-0de4-3838-b4b0-dff17a66fe12\n",
      "messageBoardId : finmb_101677\n",
      "gmtOffSetMilliseconds : 19800000\n",
      "currentPrice : 1724.1\n",
      "targetHighPrice : 2078.0\n",
      "targetLowPrice : 1393.0\n",
      "targetMeanPrice : 1770.32\n",
      "targetMedianPrice : 1800.0\n",
      "recommendationMean : 1.6\n",
      "recommendationKey : buy\n",
      "numberOfAnalystOpinions : 44\n",
      "totalCash : 2663853850624\n",
      "totalCashPerShare : 349.683\n",
      "totalDebt : 6660388552704\n",
      "totalRevenue : 2761061040128\n",
      "revenuePerShare : 363.255\n",
      "returnOnAssets : 0.01712\n",
      "returnOnEquity : 0.1153\n",
      "operatingCashflow : -1467762343936\n",
      "earningsGrowth : 0.39\n",
      "revenueGrowth : 0.63\n",
      "operatingMargins : 0.32936\n",
      "financialCurrency : INR\n",
      "trailingPegRatio : None\n"
     ]
    }
   ],
   "source": [
    "# get all key value pairs that are available\n",
    "for key, value in GetFacebookInformation.info.items():\n",
    "\tprint(key, \":\", value)\n"
   ]
  },
  {
   "cell_type": "code",
   "execution_count": 40,
   "id": "c7675322-d9d7-4d6b-84c9-ac0278501fb4",
   "metadata": {},
   "outputs": [
    {
     "name": "stdout",
     "output_type": "stream",
     "text": [
      "                                  Open         High          Low        Close  \\\n",
      "Date                                                                            \n",
      "2019-11-13 00:00:00+05:30  1211.445004  1219.172879  1203.429205  1207.221191   \n",
      "2019-11-14 00:00:00+05:30  1213.220867  1225.892536  1206.884915  1222.916626   \n",
      "2019-11-15 00:00:00+05:30  1232.468540  1233.572539  1220.228812  1226.756714   \n",
      "2019-11-18 00:00:00+05:30  1225.892649  1228.244549  1208.324994  1211.541016   \n",
      "2019-11-19 00:00:00+05:30  1214.660991  1223.972736  1210.629010  1220.996826   \n",
      "...                                ...          ...          ...          ...   \n",
      "2024-11-06 00:00:00+05:30  1771.500000  1771.500000  1745.349976  1755.250000   \n",
      "2024-11-07 00:00:00+05:30  1744.300049  1760.949951  1738.000000  1746.550049   \n",
      "2024-11-08 00:00:00+05:30  1752.000000  1761.800049  1745.849976  1754.449951   \n",
      "2024-11-11 00:00:00+05:30  1754.550049  1782.800049  1751.199951  1766.300049   \n",
      "2024-11-12 00:00:00+05:30  1772.000000  1775.000000  1719.599976  1724.099976   \n",
      "\n",
      "                             Volume  Dividends  Stock Splits  \n",
      "Date                                                          \n",
      "2019-11-13 00:00:00+05:30   4646748        0.0           0.0  \n",
      "2019-11-14 00:00:00+05:30   5527609        0.0           0.0  \n",
      "2019-11-15 00:00:00+05:30   4639506        0.0           0.0  \n",
      "2019-11-18 00:00:00+05:30   4565146        0.0           0.0  \n",
      "2019-11-19 00:00:00+05:30   5285289        0.0           0.0  \n",
      "...                             ...        ...           ...  \n",
      "2024-11-06 00:00:00+05:30  13893955        0.0           0.0  \n",
      "2024-11-07 00:00:00+05:30   9447728        0.0           0.0  \n",
      "2024-11-08 00:00:00+05:30   9951493        0.0           0.0  \n",
      "2024-11-11 00:00:00+05:30  12282681        0.0           0.0  \n",
      "2024-11-12 00:00:00+05:30   7948509        0.0           0.0  \n",
      "\n",
      "[1240 rows x 7 columns]\n"
     ]
    }
   ],
   "source": [
    "# print historical data\n",
    "print(GetFacebookInformation.history(period=\"5y\"))"
   ]
  },
  {
   "cell_type": "code",
   "execution_count": 42,
   "id": "5c89cffc-2b6e-4632-aa1c-257a6e1675f7",
   "metadata": {},
   "outputs": [],
   "source": [
    "import numpy as np\n",
    "import pandas as pd\n",
    "import matplotlib as plt\n",
    "import seaborn as sns"
   ]
  },
  {
   "cell_type": "code",
   "execution_count": 44,
   "id": "6ccb1f31-8185-48e1-87a3-373d35d71670",
   "metadata": {},
   "outputs": [],
   "source": [
    "df = pd.DataFrame(GetFacebookInformation.history(period=\"5y\"))"
   ]
  },
  {
   "cell_type": "code",
   "execution_count": 46,
   "id": "f7d4eb2f-057a-4002-a3e8-8daf7100fa87",
   "metadata": {},
   "outputs": [
    {
     "data": {
      "text/html": [
       "<div>\n",
       "<style scoped>\n",
       "    .dataframe tbody tr th:only-of-type {\n",
       "        vertical-align: middle;\n",
       "    }\n",
       "\n",
       "    .dataframe tbody tr th {\n",
       "        vertical-align: top;\n",
       "    }\n",
       "\n",
       "    .dataframe thead th {\n",
       "        text-align: right;\n",
       "    }\n",
       "</style>\n",
       "<table border=\"1\" class=\"dataframe\">\n",
       "  <thead>\n",
       "    <tr style=\"text-align: right;\">\n",
       "      <th></th>\n",
       "      <th>Open</th>\n",
       "      <th>High</th>\n",
       "      <th>Low</th>\n",
       "      <th>Close</th>\n",
       "      <th>Volume</th>\n",
       "      <th>Dividends</th>\n",
       "      <th>Stock Splits</th>\n",
       "    </tr>\n",
       "    <tr>\n",
       "      <th>Date</th>\n",
       "      <th></th>\n",
       "      <th></th>\n",
       "      <th></th>\n",
       "      <th></th>\n",
       "      <th></th>\n",
       "      <th></th>\n",
       "      <th></th>\n",
       "    </tr>\n",
       "  </thead>\n",
       "  <tbody>\n",
       "    <tr>\n",
       "      <th>2019-11-13 00:00:00+05:30</th>\n",
       "      <td>1211.445004</td>\n",
       "      <td>1219.172879</td>\n",
       "      <td>1203.429205</td>\n",
       "      <td>1207.221191</td>\n",
       "      <td>4646748</td>\n",
       "      <td>0.0</td>\n",
       "      <td>0.0</td>\n",
       "    </tr>\n",
       "    <tr>\n",
       "      <th>2019-11-14 00:00:00+05:30</th>\n",
       "      <td>1213.220867</td>\n",
       "      <td>1225.892536</td>\n",
       "      <td>1206.884915</td>\n",
       "      <td>1222.916626</td>\n",
       "      <td>5527609</td>\n",
       "      <td>0.0</td>\n",
       "      <td>0.0</td>\n",
       "    </tr>\n",
       "    <tr>\n",
       "      <th>2019-11-15 00:00:00+05:30</th>\n",
       "      <td>1232.468540</td>\n",
       "      <td>1233.572539</td>\n",
       "      <td>1220.228812</td>\n",
       "      <td>1226.756714</td>\n",
       "      <td>4639506</td>\n",
       "      <td>0.0</td>\n",
       "      <td>0.0</td>\n",
       "    </tr>\n",
       "    <tr>\n",
       "      <th>2019-11-18 00:00:00+05:30</th>\n",
       "      <td>1225.892649</td>\n",
       "      <td>1228.244549</td>\n",
       "      <td>1208.324994</td>\n",
       "      <td>1211.541016</td>\n",
       "      <td>4565146</td>\n",
       "      <td>0.0</td>\n",
       "      <td>0.0</td>\n",
       "    </tr>\n",
       "    <tr>\n",
       "      <th>2019-11-19 00:00:00+05:30</th>\n",
       "      <td>1214.660991</td>\n",
       "      <td>1223.972736</td>\n",
       "      <td>1210.629010</td>\n",
       "      <td>1220.996826</td>\n",
       "      <td>5285289</td>\n",
       "      <td>0.0</td>\n",
       "      <td>0.0</td>\n",
       "    </tr>\n",
       "  </tbody>\n",
       "</table>\n",
       "</div>"
      ],
      "text/plain": [
       "                                  Open         High          Low        Close  \\\n",
       "Date                                                                            \n",
       "2019-11-13 00:00:00+05:30  1211.445004  1219.172879  1203.429205  1207.221191   \n",
       "2019-11-14 00:00:00+05:30  1213.220867  1225.892536  1206.884915  1222.916626   \n",
       "2019-11-15 00:00:00+05:30  1232.468540  1233.572539  1220.228812  1226.756714   \n",
       "2019-11-18 00:00:00+05:30  1225.892649  1228.244549  1208.324994  1211.541016   \n",
       "2019-11-19 00:00:00+05:30  1214.660991  1223.972736  1210.629010  1220.996826   \n",
       "\n",
       "                            Volume  Dividends  Stock Splits  \n",
       "Date                                                         \n",
       "2019-11-13 00:00:00+05:30  4646748        0.0           0.0  \n",
       "2019-11-14 00:00:00+05:30  5527609        0.0           0.0  \n",
       "2019-11-15 00:00:00+05:30  4639506        0.0           0.0  \n",
       "2019-11-18 00:00:00+05:30  4565146        0.0           0.0  \n",
       "2019-11-19 00:00:00+05:30  5285289        0.0           0.0  "
      ]
     },
     "execution_count": 46,
     "metadata": {},
     "output_type": "execute_result"
    }
   ],
   "source": [
    "df.head(5)"
   ]
  },
  {
   "cell_type": "code",
   "execution_count": 48,
   "id": "6ba91a38-b26b-46fb-86a3-8b4ffeb1ca03",
   "metadata": {},
   "outputs": [
    {
     "data": {
      "text/html": [
       "<div>\n",
       "<style scoped>\n",
       "    .dataframe tbody tr th:only-of-type {\n",
       "        vertical-align: middle;\n",
       "    }\n",
       "\n",
       "    .dataframe tbody tr th {\n",
       "        vertical-align: top;\n",
       "    }\n",
       "\n",
       "    .dataframe thead th {\n",
       "        text-align: right;\n",
       "    }\n",
       "</style>\n",
       "<table border=\"1\" class=\"dataframe\">\n",
       "  <thead>\n",
       "    <tr style=\"text-align: right;\">\n",
       "      <th></th>\n",
       "      <th>Open</th>\n",
       "      <th>High</th>\n",
       "      <th>Low</th>\n",
       "      <th>Close</th>\n",
       "      <th>Volume</th>\n",
       "      <th>Dividends</th>\n",
       "      <th>Stock Splits</th>\n",
       "    </tr>\n",
       "    <tr>\n",
       "      <th>Date</th>\n",
       "      <th></th>\n",
       "      <th></th>\n",
       "      <th></th>\n",
       "      <th></th>\n",
       "      <th></th>\n",
       "      <th></th>\n",
       "      <th></th>\n",
       "    </tr>\n",
       "  </thead>\n",
       "  <tbody>\n",
       "    <tr>\n",
       "      <th>2024-11-06 00:00:00+05:30</th>\n",
       "      <td>1771.500000</td>\n",
       "      <td>1771.500000</td>\n",
       "      <td>1745.349976</td>\n",
       "      <td>1755.250000</td>\n",
       "      <td>13893955</td>\n",
       "      <td>0.0</td>\n",
       "      <td>0.0</td>\n",
       "    </tr>\n",
       "    <tr>\n",
       "      <th>2024-11-07 00:00:00+05:30</th>\n",
       "      <td>1744.300049</td>\n",
       "      <td>1760.949951</td>\n",
       "      <td>1738.000000</td>\n",
       "      <td>1746.550049</td>\n",
       "      <td>9447728</td>\n",
       "      <td>0.0</td>\n",
       "      <td>0.0</td>\n",
       "    </tr>\n",
       "    <tr>\n",
       "      <th>2024-11-08 00:00:00+05:30</th>\n",
       "      <td>1752.000000</td>\n",
       "      <td>1761.800049</td>\n",
       "      <td>1745.849976</td>\n",
       "      <td>1754.449951</td>\n",
       "      <td>9951493</td>\n",
       "      <td>0.0</td>\n",
       "      <td>0.0</td>\n",
       "    </tr>\n",
       "    <tr>\n",
       "      <th>2024-11-11 00:00:00+05:30</th>\n",
       "      <td>1754.550049</td>\n",
       "      <td>1782.800049</td>\n",
       "      <td>1751.199951</td>\n",
       "      <td>1766.300049</td>\n",
       "      <td>12282681</td>\n",
       "      <td>0.0</td>\n",
       "      <td>0.0</td>\n",
       "    </tr>\n",
       "    <tr>\n",
       "      <th>2024-11-12 00:00:00+05:30</th>\n",
       "      <td>1772.000000</td>\n",
       "      <td>1775.000000</td>\n",
       "      <td>1719.599976</td>\n",
       "      <td>1724.099976</td>\n",
       "      <td>7948509</td>\n",
       "      <td>0.0</td>\n",
       "      <td>0.0</td>\n",
       "    </tr>\n",
       "  </tbody>\n",
       "</table>\n",
       "</div>"
      ],
      "text/plain": [
       "                                  Open         High          Low        Close  \\\n",
       "Date                                                                            \n",
       "2024-11-06 00:00:00+05:30  1771.500000  1771.500000  1745.349976  1755.250000   \n",
       "2024-11-07 00:00:00+05:30  1744.300049  1760.949951  1738.000000  1746.550049   \n",
       "2024-11-08 00:00:00+05:30  1752.000000  1761.800049  1745.849976  1754.449951   \n",
       "2024-11-11 00:00:00+05:30  1754.550049  1782.800049  1751.199951  1766.300049   \n",
       "2024-11-12 00:00:00+05:30  1772.000000  1775.000000  1719.599976  1724.099976   \n",
       "\n",
       "                             Volume  Dividends  Stock Splits  \n",
       "Date                                                          \n",
       "2024-11-06 00:00:00+05:30  13893955        0.0           0.0  \n",
       "2024-11-07 00:00:00+05:30   9447728        0.0           0.0  \n",
       "2024-11-08 00:00:00+05:30   9951493        0.0           0.0  \n",
       "2024-11-11 00:00:00+05:30  12282681        0.0           0.0  \n",
       "2024-11-12 00:00:00+05:30   7948509        0.0           0.0  "
      ]
     },
     "execution_count": 48,
     "metadata": {},
     "output_type": "execute_result"
    }
   ],
   "source": [
    "df.tail(5)"
   ]
  },
  {
   "cell_type": "code",
   "execution_count": 50,
   "id": "390f9e25-e276-4cf7-97ce-353c9646570b",
   "metadata": {},
   "outputs": [
    {
     "data": {
      "text/plain": [
       "Open            float64\n",
       "High            float64\n",
       "Low             float64\n",
       "Close           float64\n",
       "Volume            int64\n",
       "Dividends       float64\n",
       "Stock Splits    float64\n",
       "dtype: object"
      ]
     },
     "execution_count": 50,
     "metadata": {},
     "output_type": "execute_result"
    }
   ],
   "source": [
    "df.dtypes"
   ]
  },
  {
   "cell_type": "code",
   "execution_count": 52,
   "id": "21bed1eb-3bd7-4a7c-b8b8-08744ab88da4",
   "metadata": {},
   "outputs": [],
   "source": [
    "uni = set(df[\"Stock Splits\"])"
   ]
  },
  {
   "cell_type": "code",
   "execution_count": 54,
   "id": "2e3d1ad4-297e-4a09-af35-688c19a2237f",
   "metadata": {},
   "outputs": [
    {
     "data": {
      "text/plain": [
       "{0.0}"
      ]
     },
     "execution_count": 54,
     "metadata": {},
     "output_type": "execute_result"
    }
   ],
   "source": [
    "uni"
   ]
  },
  {
   "cell_type": "code",
   "execution_count": 56,
   "id": "cdff7b4d-9060-4f99-b9a8-216eace135ec",
   "metadata": {},
   "outputs": [
    {
     "name": "stdout",
     "output_type": "stream",
     "text": [
      "Open            0\n",
      "High            0\n",
      "Low             0\n",
      "Close           0\n",
      "Volume          0\n",
      "Dividends       0\n",
      "Stock Splits    0\n",
      "dtype: int64\n"
     ]
    }
   ],
   "source": [
    "print(df.isnull().sum())"
   ]
  },
  {
   "cell_type": "code",
   "execution_count": 64,
   "id": "0964a6fa-37bc-4e29-b316-de12b81955b4",
   "metadata": {},
   "outputs": [
    {
     "data": {
      "text/plain": [
       "[<matplotlib.lines.Line2D at 0x2b3edf9f0b0>]"
      ]
     },
     "execution_count": 64,
     "metadata": {},
     "output_type": "execute_result"
    },
    {
     "data": {
      "image/png": "[encoded data removed]",
      "text/plain": [
       "<Figure size 1600x800 with 1 Axes>"
      ]
     },
     "metadata": {},
     "output_type": "display_data"
    }
   ],
   "source": [
    "plt.figure(figsize=(16,8))\n",
    "plt.plot(df['Close'],label = 'Closing Price')        "
   ]
  },
  {
   "cell_type": "markdown",
   "id": "a832bd2d-afd2-4f9e-bbc4-6704b1324e09",
   "metadata": {},
   "source": [
    "Input Features to train the ML Model"
   ]
  },
  {
   "cell_type": "code",
   "execution_count": 68,
   "id": "539c37cb-9d86-4a0e-a0b3-a7649e201241",
   "metadata": {},
   "outputs": [],
   "source": [
    "df['Open-Close'] = df['Open']-df['Close']\n",
    "df['High-Low'] = df['High']-df['Low']"
   ]
  },
  {
   "cell_type": "code",
   "execution_count": 70,
   "id": "3787faf9-e4c8-4002-8b1c-e6358fef272c",
   "metadata": {},
   "outputs": [
    {
     "name": "stdout",
     "output_type": "stream",
     "text": [
      "Open            0\n",
      "High            0\n",
      "Low             0\n",
      "Close           0\n",
      "Volume          0\n",
      "Dividends       0\n",
      "Stock Splits    0\n",
      "Open-Close      0\n",
      "High-Low        0\n",
      "dtype: int64\n"
     ]
    }
   ],
   "source": [
    "print(df.isnull().sum())"
   ]
  },
  {
   "cell_type": "code",
   "execution_count": 75,
   "id": "d1830155-9a29-4106-89f0-271a66115e21",
   "metadata": {},
   "outputs": [
    {
     "data": {
      "text/html": [
       "<div>\n",
       "<style scoped>\n",
       "    .dataframe tbody tr th:only-of-type {\n",
       "        vertical-align: middle;\n",
       "    }\n",
       "\n",
       "    .dataframe tbody tr th {\n",
       "        vertical-align: top;\n",
       "    }\n",
       "\n",
       "    .dataframe thead th {\n",
       "        text-align: right;\n",
       "    }\n",
       "</style>\n",
       "<table border=\"1\" class=\"dataframe\">\n",
       "  <thead>\n",
       "    <tr style=\"text-align: right;\">\n",
       "      <th></th>\n",
       "      <th>Open-Close</th>\n",
       "      <th>High-Low</th>\n",
       "    </tr>\n",
       "    <tr>\n",
       "      <th>Date</th>\n",
       "      <th></th>\n",
       "      <th></th>\n",
       "    </tr>\n",
       "  </thead>\n",
       "  <tbody>\n",
       "    <tr>\n",
       "      <th>2024-11-06 00:00:00+05:30</th>\n",
       "      <td>16.250000</td>\n",
       "      <td>26.150024</td>\n",
       "    </tr>\n",
       "    <tr>\n",
       "      <th>2024-11-07 00:00:00+05:30</th>\n",
       "      <td>-2.250000</td>\n",
       "      <td>22.949951</td>\n",
       "    </tr>\n",
       "    <tr>\n",
       "      <th>2024-11-08 00:00:00+05:30</th>\n",
       "      <td>-2.449951</td>\n",
       "      <td>15.950073</td>\n",
       "    </tr>\n",
       "    <tr>\n",
       "      <th>2024-11-11 00:00:00+05:30</th>\n",
       "      <td>-11.750000</td>\n",
       "      <td>31.600098</td>\n",
       "    </tr>\n",
       "    <tr>\n",
       "      <th>2024-11-12 00:00:00+05:30</th>\n",
       "      <td>47.900024</td>\n",
       "      <td>55.400024</td>\n",
       "    </tr>\n",
       "  </tbody>\n",
       "</table>\n",
       "</div>"
      ],
      "text/plain": [
       "                           Open-Close   High-Low\n",
       "Date                                            \n",
       "2024-11-06 00:00:00+05:30   16.250000  26.150024\n",
       "2024-11-07 00:00:00+05:30   -2.250000  22.949951\n",
       "2024-11-08 00:00:00+05:30   -2.449951  15.950073\n",
       "2024-11-11 00:00:00+05:30  -11.750000  31.600098\n",
       "2024-11-12 00:00:00+05:30   47.900024  55.400024"
      ]
     },
     "execution_count": 75,
     "metadata": {},
     "output_type": "execute_result"
    }
   ],
   "source": [
    "X  = df[['Open-Close','High-Low']]\n",
    "X.tail()"
   ]
  },
  {
   "cell_type": "markdown",
   "id": "05bf355b-00ee-43d0-aa1a-6cfbfe9309f2",
   "metadata": {},
   "source": [
    "# Classification"
   ]
  },
  {
   "cell_type": "markdown",
   "id": "8508ce1e-6632-414f-b969-e52ce8cbe2b2",
   "metadata": {},
   "source": [
    "A way of creating a label (or target variable) for whether the closing price of a financial asset (such as a stock) is expected to go up or down on the next day.\n",
    "\n",
    "data['Close'].shift(-1):\n",
    "\n",
    "This shifts the 'Close' column in the data DataFrame by -1, which effectively aligns each day's closing price with the following day's closing price. So, data['Close'].shift(-1) provides the next day's closing price.\n",
    "data['Close'].shift(-1) > data['Close']:\n",
    "\n",
    "This part compares the next day's closing price with the current day's closing price.\n",
    "If the next day's closing price is higher than the current day's (indicating an upward trend), this condition is True."
   ]
  },
  {
   "cell_type": "code",
   "execution_count": 144,
   "id": "d9e38a48-1251-4bd3-91c5-9b23dc7738ab",
   "metadata": {},
   "outputs": [],
   "source": [
    "Y = np.where(df['Close'].shift(-1)>df['Close'],1,-1)\n",
    "Y\n",
    "y=df['Close']"
   ]
  },
  {
   "cell_type": "code",
   "execution_count": 146,
   "id": "6c9d024b-a9df-4b46-b5ec-d5159ad152bd",
   "metadata": {},
   "outputs": [
    {
     "data": {
      "text/plain": [
       "Date\n",
       "2019-11-13 00:00:00+05:30    1207.221191\n",
       "2019-11-14 00:00:00+05:30    1222.916626\n",
       "2019-11-15 00:00:00+05:30    1226.756714\n",
       "2019-11-18 00:00:00+05:30    1211.541016\n",
       "2019-11-19 00:00:00+05:30    1220.996826\n",
       "                                ...     \n",
       "2024-11-06 00:00:00+05:30    1755.250000\n",
       "2024-11-07 00:00:00+05:30    1746.550049\n",
       "2024-11-08 00:00:00+05:30    1754.449951\n",
       "2024-11-11 00:00:00+05:30    1766.300049\n",
       "2024-11-12 00:00:00+05:30    1724.099976\n",
       "Name: Close, Length: 1240, dtype: float64"
      ]
     },
     "execution_count": 146,
     "metadata": {},
     "output_type": "execute_result"
    }
   ],
   "source": [
    "y"
   ]
  },
  {
   "cell_type": "code",
   "execution_count": 88,
   "id": "02ee5985-6a0c-4c9e-8d12-0cf399d2aaf8",
   "metadata": {},
   "outputs": [],
   "source": [
    "from sklearn import neighbors\n",
    "from sklearn.model_selection import train_test_split\n",
    "X_train, X_test, y_train, y_test = train_test_split(X, Y, test_size=0.25)"
   ]
  },
  {
   "cell_type": "code",
   "execution_count": 100,
   "id": "d0f19648-dbea-4d75-97d4-55a1b9e54ab5",
   "metadata": {},
   "outputs": [
    {
     "name": "stdout",
     "output_type": "stream",
     "text": [
      "Training accuracy - 0.75\n",
      "Testing accuracy - 0.54\n"
     ]
    }
   ],
   "source": [
    "from sklearn.model_selection import GridSearchCV\n",
    "from sklearn.metrics import accuracy_score\n",
    "\n",
    "params={'n_neighbors': [2,3,4,5,6,7,8,9,10,11,12,13,14,15]}\n",
    "knn= neighbors.KNeighborsClassifier()\n",
    "model = GridSearchCV(knn, params, cv=5)\n",
    "\n",
    "model.fit(X_train, y_train)\n",
    "\n",
    "accuracy_train = accuracy_score(y_train, model.predict(X_train))\n",
    "accuracy_test = accuracy_score(y_test, model.predict(X_test))\n",
    "\n",
    "print(\"Training accuracy - %.2f\" %accuracy_train)\n",
    "print(\"Testing accuracy - %.2f\" %accuracy_test)"
   ]
  },
  {
   "cell_type": "code",
   "execution_count": 148,
   "id": "a15afe4c-fcba-4bb2-bb88-85e1ee9fb608",
   "metadata": {},
   "outputs": [],
   "source": [
    "predictions = model.predict(X_test)"
   ]
  },
  {
   "cell_type": "code",
   "execution_count": 150,
   "id": "19087c76-2ccb-4b9e-90e3-0b00704ae702",
   "metadata": {},
   "outputs": [],
   "source": [
    "model_evaluation = pd.DataFrame({'Actual Class': y_test, 'Predicted Class': predictions})"
   ]
  },
  {
   "cell_type": "code",
   "execution_count": 152,
   "id": "bbecbf27-0330-476f-895a-445a7c87ce9e",
   "metadata": {},
   "outputs": [
    {
     "data": {
      "text/html": [
       "<div>\n",
       "<style scoped>\n",
       "    .dataframe tbody tr th:only-of-type {\n",
       "        vertical-align: middle;\n",
       "    }\n",
       "\n",
       "    .dataframe tbody tr th {\n",
       "        vertical-align: top;\n",
       "    }\n",
       "\n",
       "    .dataframe thead th {\n",
       "        text-align: right;\n",
       "    }\n",
       "</style>\n",
       "<table border=\"1\" class=\"dataframe\">\n",
       "  <thead>\n",
       "    <tr style=\"text-align: right;\">\n",
       "      <th></th>\n",
       "      <th>Actual Class</th>\n",
       "      <th>Predicted Class</th>\n",
       "    </tr>\n",
       "  </thead>\n",
       "  <tbody>\n",
       "    <tr>\n",
       "      <th>0</th>\n",
       "      <td>-1</td>\n",
       "      <td>1</td>\n",
       "    </tr>\n",
       "    <tr>\n",
       "      <th>1</th>\n",
       "      <td>-1</td>\n",
       "      <td>1</td>\n",
       "    </tr>\n",
       "    <tr>\n",
       "      <th>2</th>\n",
       "      <td>1</td>\n",
       "      <td>1</td>\n",
       "    </tr>\n",
       "    <tr>\n",
       "      <th>3</th>\n",
       "      <td>-1</td>\n",
       "      <td>1</td>\n",
       "    </tr>\n",
       "    <tr>\n",
       "      <th>4</th>\n",
       "      <td>1</td>\n",
       "      <td>1</td>\n",
       "    </tr>\n",
       "  </tbody>\n",
       "</table>\n",
       "</div>"
      ],
      "text/plain": [
       "   Actual Class  Predicted Class\n",
       "0            -1                1\n",
       "1            -1                1\n",
       "2             1                1\n",
       "3            -1                1\n",
       "4             1                1"
      ]
     },
     "execution_count": 152,
     "metadata": {},
     "output_type": "execute_result"
    }
   ],
   "source": [
    "model_evaluation.head()"
   ]
  },
  {
   "cell_type": "markdown",
   "id": "1462cbe5-eb34-436c-8ce3-c499175948fa",
   "metadata": {},
   "source": [
    "# Regression"
   ]
  },
  {
   "cell_type": "code",
   "execution_count": 155,
   "id": "6bc9770d-b9e0-4876-9f32-b798f4e6a88e",
   "metadata": {},
   "outputs": [],
   "source": [
    "from sklearn.neighbors import KNeighborsRegressor\n",
    "from sklearn import neighbors\n",
    "from sklearn.model_selection import train_test_split\n",
    "X_train_reg, X_test_reg, y_train_reg, y_test_reg = train_test_split(X, y, test_size=0.25)\n",
    "\n",
    "knn_reg= neighbors.KNeighborsRegressor()\n",
    "model_reg = GridSearchCV(knn_reg, params, cv=5)\n",
    "\n",
    "model_reg.fit(X_train_reg, y_train_reg)\n",
    "predictions_reg = model_reg.predict(X_test_reg)\n",
    "\n",
    "#accuracy_train_reg = accuracy_score(y_train_reg, model_reg.predict(X_train_reg))\n",
    "#accuracy_test_reg = accuracy_score(y_test_reg, model_reg.predict(X_test_reg))"
   ]
  },
  {
   "cell_type": "code",
   "execution_count": 157,
   "id": "8dd2167f-b627-4b16-8a54-c8a182892852",
   "metadata": {},
   "outputs": [
    {
     "data": {
      "text/plain": [
       "Date\n",
       "2021-12-10 00:00:00+05:30    1467.941284\n",
       "2023-08-03 00:00:00+05:30    1606.709717\n",
       "2020-07-23 00:00:00+05:30    1085.159912\n",
       "2021-08-09 00:00:00+05:30    1449.960327\n",
       "2021-11-01 00:00:00+05:30    1547.723389\n",
       "                                ...     \n",
       "2022-06-07 00:00:00+05:30    1329.002930\n",
       "2022-05-26 00:00:00+05:30    1333.001709\n",
       "2021-08-13 00:00:00+05:30    1471.460449\n",
       "2020-12-09 00:00:00+05:30    1350.881714\n",
       "2024-02-05 00:00:00+05:30    1425.385742\n",
       "Name: Close, Length: 310, dtype: float64"
      ]
     },
     "execution_count": 157,
     "metadata": {},
     "output_type": "execute_result"
    }
   ],
   "source": [
    "y_test_reg"
   ]
  },
  {
   "cell_type": "code",
   "execution_count": 159,
   "id": "d72109af-8159-4ca8-9ce6-c153fb063dea",
   "metadata": {},
   "outputs": [
    {
     "name": "stdout",
     "output_type": "stream",
     "text": [
      "[1525.20616862 1459.80712891 1461.89171956 1390.21274414 1524.41376139\n",
      " 1409.41887207 1335.23119303 1444.43128255 1333.06302083 1328.25629476\n",
      " 1445.68036296 1387.90762939 1390.21036784 1346.76750488 1505.79954427\n",
      " 1364.70612793 1315.35526937 1477.66678874 1345.48109538 1381.21491699\n",
      " 1294.50386963 1451.80654704 1361.26939697 1378.72526449 1459.15178223\n",
      " 1467.26510417 1426.83560384 1477.83545736 1406.68100586 1438.08001302\n",
      " 1318.40999756 1456.48380127 1464.10885417 1366.12996419 1478.50264486\n",
      " 1507.18990885 1408.75934245 1435.39241536 1356.45052083 1419.75461426\n",
      " 1475.46197917 1377.8174235  1443.03647461 1374.68109945 1407.48974609\n",
      " 1445.87783203 1361.2777181  1472.92060547 1405.6904012  1410.82710775\n",
      " 1453.26774495 1373.3427653  1436.85024414 1498.49116211 1450.12235514\n",
      " 1332.65723063 1386.68733724 1363.78594157 1461.93328451 1454.06258952\n",
      " 1480.63513997 1449.86933594 1413.22069499 1434.91405436 1420.52546387\n",
      " 1379.35802002 1432.22693278 1438.26353353 1447.1384196  1469.58604329\n",
      " 1439.81040446 1409.49600016 1412.78876953 1373.69893799 1362.6101359\n",
      " 1426.50690104 1446.74561768 1417.88158366 1454.06258952 1403.17990316\n",
      " 1374.86519775 1414.01636963 1452.81222331 1452.90399577 1422.11747233\n",
      " 1521.27086589 1378.08105469 1498.37958984 1496.71877441 1366.04912109\n",
      " 1290.53942464 1543.85096842 1325.44928385 1228.28017985 1339.81474609\n",
      " 1422.19702148 1479.12278646 1513.82776693 1392.384375   1409.24603678\n",
      " 1459.66060791 1333.93448893 1429.85209961 1454.04617513 1370.4087443\n",
      " 1314.60634359 1332.75826009 1407.47793376 1441.86807454 1469.79875488\n",
      " 1439.43340658 1394.74855957 1367.75604248 1297.69696859 1406.33049316\n",
      " 1475.23450928 1360.24672445 1360.57226562 1413.31162923 1473.47303874\n",
      " 1408.9225179  1394.72610677 1429.28771159 1283.88629964 1386.5075887\n",
      " 1447.1185791  1453.97979736 1438.75384115 1397.51551921 1520.38620605\n",
      " 1393.36529134 1432.00200195 1381.79597168 1408.9225179  1461.47733561\n",
      " 1381.59025879 1472.74319661 1472.23117676 1455.94160156 1379.87386068\n",
      " 1404.37445882 1454.54465739 1431.02124023 1385.07736816 1437.38413493\n",
      " 1478.30590007 1425.06077881 1446.54444173 1422.35009766 1358.36252848\n",
      " 1561.19561361 1430.96157227 1438.23307292 1448.39841309 1478.83767904\n",
      " 1491.47884115 1399.753243   1398.94925944 1374.68109945 1471.06241048\n",
      " 1425.18260905 1493.70948079 1462.35714518 1465.34843343 1467.26510417\n",
      " 1512.07351074 1391.18559977 1427.48231201 1461.36302083 1435.61283366\n",
      " 1465.4480306  1486.69893392 1457.43020833 1503.27049967 1513.30658366\n",
      " 1432.31738281 1437.15217285 1472.90830892 1450.9397054  1404.70055339\n",
      " 1510.89573568 1357.0409668  1451.08814697 1434.01645101 1358.54179281\n",
      " 1436.17437744 1368.84032389 1467.34952799 1366.72093913 1434.92746582\n",
      " 1429.23577474 1488.12124023 1411.99801432 1401.45699056 1445.4112915\n",
      " 1425.20552165 1467.80019124 1401.52064209 1308.94140625 1525.49449056\n",
      " 1446.00662435 1414.56641846 1335.37473551 1466.85851237 1415.08838704\n",
      " 1428.78942057 1407.89189046 1436.75113932 1470.31566976 1503.55147298\n",
      " 1485.34256999 1322.49207357 1438.79710286 1319.86718343 1396.6304362\n",
      " 1339.68404541 1427.47035319 1412.42539063 1444.91694336 1407.47793376\n",
      " 1460.17701009 1350.92961426 1426.53908691 1359.49156901 1433.10851237\n",
      " 1373.05725505 1404.20486247 1486.56991374 1438.5972819  1518.76808268\n",
      " 1464.57590332 1446.54636637 1443.68828125 1508.20703939 1351.20465495\n",
      " 1425.03509928 1431.47610677 1439.8922526  1429.05092367 1444.28530273\n",
      " 1467.56790365 1408.90934245 1468.18901367 1383.71172282 1428.09112142\n",
      " 1374.79847005 1396.87967529 1415.03551432 1397.41606852 1419.90862223\n",
      " 1370.15264486 1418.98116048 1494.40473633 1393.88171387 1454.24710693\n",
      " 1457.71731364 1524.95152181 1456.54562174 1481.93190918 1448.77119141\n",
      " 1400.97021077 1401.51685384 1368.54812012 1292.83543294 1287.0825236\n",
      " 1428.4106486  1474.02315267 1464.13644206 1410.27201742 1368.47903239\n",
      " 1469.52045898 1477.83985189 1329.22611491 1331.43511149 1411.33088379\n",
      " 1404.7044515  1402.17524007 1410.17189535 1345.85863037 1420.11173096\n",
      " 1429.25136719 1490.96571452 1412.52301432 1441.29231771 1382.25551351\n",
      " 1283.72344564 1355.97677409 1448.8267334  1440.04397786 1424.89211019\n",
      " 1412.77525228 1495.73097331 1426.54624023 1429.25136719 1491.88269857\n",
      " 1405.00177002 1431.61830648 1439.8400472  1424.67594401 1425.78221436\n",
      " 1511.82001139 1490.97115072 1359.82849121 1358.88409424 1461.95686035\n",
      " 1438.27608236 1488.12124023 1496.72626139 1302.87061768 1454.04617513]\n"
     ]
    }
   ],
   "source": [
    "print(predictions_reg)"
   ]
  },
  {
   "cell_type": "code",
   "execution_count": 161,
   "id": "2e5c7238-cf3c-47b8-98ae-344f42af2ff2",
   "metadata": {},
   "outputs": [
    {
     "data": {
      "text/plain": [
       "212.21911448520703"
      ]
     },
     "execution_count": 161,
     "metadata": {},
     "output_type": "execute_result"
    }
   ],
   "source": [
    "rms = np.sqrt(np.mean(np.power((np.array(y_test_reg)-np.array(predictions_reg)),2)))\n",
    "rms"
   ]
  },
  {
   "cell_type": "code",
   "execution_count": 163,
   "id": "e1d3d87f-c068-442f-8275-4c00f4a3cc1e",
   "metadata": {},
   "outputs": [],
   "source": [
    "valid = pd.DataFrame({'Actual Close': y_test_reg, 'Predicted Close Value':predictions_reg})"
   ]
  },
  {
   "cell_type": "code",
   "execution_count": 165,
   "id": "92f859f9-db19-4122-9005-844d188a570c",
   "metadata": {},
   "outputs": [
    {
     "data": {
      "text/html": [
       "<div>\n",
       "<style scoped>\n",
       "    .dataframe tbody tr th:only-of-type {\n",
       "        vertical-align: middle;\n",
       "    }\n",
       "\n",
       "    .dataframe tbody tr th {\n",
       "        vertical-align: top;\n",
       "    }\n",
       "\n",
       "    .dataframe thead th {\n",
       "        text-align: right;\n",
       "    }\n",
       "</style>\n",
       "<table border=\"1\" class=\"dataframe\">\n",
       "  <thead>\n",
       "    <tr style=\"text-align: right;\">\n",
       "      <th></th>\n",
       "      <th>Actual Close</th>\n",
       "      <th>Predicted Close Value</th>\n",
       "    </tr>\n",
       "    <tr>\n",
       "      <th>Date</th>\n",
       "      <th></th>\n",
       "      <th></th>\n",
       "    </tr>\n",
       "  </thead>\n",
       "  <tbody>\n",
       "    <tr>\n",
       "      <th>2021-12-10 00:00:00+05:30</th>\n",
       "      <td>1467.941284</td>\n",
       "      <td>1525.206169</td>\n",
       "    </tr>\n",
       "    <tr>\n",
       "      <th>2023-08-03 00:00:00+05:30</th>\n",
       "      <td>1606.709717</td>\n",
       "      <td>1459.807129</td>\n",
       "    </tr>\n",
       "    <tr>\n",
       "      <th>2020-07-23 00:00:00+05:30</th>\n",
       "      <td>1085.159912</td>\n",
       "      <td>1461.891720</td>\n",
       "    </tr>\n",
       "    <tr>\n",
       "      <th>2021-08-09 00:00:00+05:30</th>\n",
       "      <td>1449.960327</td>\n",
       "      <td>1390.212744</td>\n",
       "    </tr>\n",
       "    <tr>\n",
       "      <th>2021-11-01 00:00:00+05:30</th>\n",
       "      <td>1547.723389</td>\n",
       "      <td>1524.413761</td>\n",
       "    </tr>\n",
       "  </tbody>\n",
       "</table>\n",
       "</div>"
      ],
      "text/plain": [
       "                           Actual Close  Predicted Close Value\n",
       "Date                                                          \n",
       "2021-12-10 00:00:00+05:30   1467.941284            1525.206169\n",
       "2023-08-03 00:00:00+05:30   1606.709717            1459.807129\n",
       "2020-07-23 00:00:00+05:30   1085.159912            1461.891720\n",
       "2021-08-09 00:00:00+05:30   1449.960327            1390.212744\n",
       "2021-11-01 00:00:00+05:30   1547.723389            1524.413761"
      ]
     },
     "execution_count": 165,
     "metadata": {},
     "output_type": "execute_result"
    }
   ],
   "source": [
    "valid.head()"
   ]
  },
  {
   "cell_type": "code",
   "execution_count": null,
   "id": "1ea0a32f-565c-4e7f-ab00-4618b2936443",
   "metadata": {},
   "outputs": [],
   "source": []
  },
  {
   "cell_type": "code",
   "execution_count": null,
   "id": "947964e3-1bc8-4e36-bdfc-61dcbd696011",
   "metadata": {},
   "outputs": [],
   "source": []
  },
  {
   "cell_type": "code",
   "execution_count": null,
   "id": "9cd78360-b93f-4e1f-b673-7ab4ebcc0241",
   "metadata": {},
   "outputs": [],
   "source": []
  },
  {
   "cell_type": "code",
   "execution_count": null,
   "id": "71ae13c9-a736-4d8f-85e8-769383377a43",
   "metadata": {},
   "outputs": [],
   "source": []
  },
  {
   "cell_type": "code",
   "execution_count": null,
   "id": "184cc054-215c-4237-b8cd-ad1d65b15563",
   "metadata": {},
   "outputs": [],
   "source": []
  },
  {
   "cell_type": "code",
   "execution_count": null,
   "id": "dbed7c8d-4a5a-4ae0-b9a9-69e0cee0a18b",
   "metadata": {},
   "outputs": [],
   "source": []
  },
  {
   "cell_type": "code",
   "execution_count": null,
   "id": "76d68e70-055b-4d24-ab7b-7ef6b33f4209",
   "metadata": {},
   "outputs": [],
   "source": []
  },
  {
   "cell_type": "code",
   "execution_count": null,
   "id": "4a806a4b-32c3-4222-b920-243804c26cc7",
   "metadata": {},
   "outputs": [],
   "source": []
  },
  {
   "cell_type": "code",
   "execution_count": null,
   "id": "4cac6a11-0764-4e35-a5e6-80e7c378a6c5",
   "metadata": {},
   "outputs": [],
   "source": []
  },
  {
   "cell_type": "code",
   "execution_count": null,
   "id": "4ed16adc-1642-40b9-80e7-50e826717991",
   "metadata": {},
   "outputs": [],
   "source": []
  },
  {
   "cell_type": "code",
   "execution_count": null,
   "id": "c8c11c13-56c2-4933-9b8e-7852385ad16e",
   "metadata": {},
   "outputs": [],
   "source": []
  },
  {
   "cell_type": "code",
   "execution_count": null,
   "id": "daa54455-261b-45d1-bb0d-db2cc460bc06",
   "metadata": {},
   "outputs": [],
   "source": []
  },
  {
   "cell_type": "code",
   "execution_count": 62,
   "id": "bf0187b8-0fef-4f4d-8e5d-3391860d9ff3",
   "metadata": {},
   "outputs": [],
   "source": [
    "import matplotlib.pyplot as plt"
   ]
  },
  {
   "cell_type": "code",
   "execution_count": 1,
   "id": "92e4287e-1c68-4f78-a88b-319d26256944",
   "metadata": {},
   "outputs": [
    {
     "name": "stdout",
     "output_type": "stream",
     "text": [
      "Collecting quandl\n",
      "  Downloading Quandl-3.7.0-py2.py3-none-any.whl.metadata (1.3 kB)\n",
      "Requirement already satisfied: pandas>=0.14 in c:\\users\\garge\\anaconda3\\lib\\site-packages (from quandl) (2.2.2)\n",
      "Requirement already satisfied: numpy>=1.8 in c:\\users\\garge\\anaconda3\\lib\\site-packages (from quandl) (1.26.4)\n",
      "Requirement already satisfied: requests>=2.7.0 in c:\\users\\garge\\anaconda3\\lib\\site-packages (from quandl) (2.32.2)\n",
      "Requirement already satisfied: inflection>=0.3.1 in c:\\users\\garge\\anaconda3\\lib\\site-packages (from quandl) (0.5.1)\n",
      "Requirement already satisfied: python-dateutil in c:\\users\\garge\\anaconda3\\lib\\site-packages (from quandl) (2.9.0.post0)\n",
      "Requirement already satisfied: six in c:\\users\\garge\\anaconda3\\lib\\site-packages (from quandl) (1.16.0)\n",
      "Requirement already satisfied: more-itertools in c:\\users\\garge\\anaconda3\\lib\\site-packages (from quandl) (10.1.0)\n",
      "Requirement already satisfied: pytz>=2020.1 in c:\\users\\garge\\anaconda3\\lib\\site-packages (from pandas>=0.14->quandl) (2024.1)\n",
      "Requirement already satisfied: tzdata>=2022.7 in c:\\users\\garge\\anaconda3\\lib\\site-packages (from pandas>=0.14->quandl) (2023.3)\n",
      "Requirement already satisfied: charset-normalizer<4,>=2 in c:\\users\\garge\\anaconda3\\lib\\site-packages (from requests>=2.7.0->quandl) (2.0.4)\n",
      "Requirement already satisfied: idna<4,>=2.5 in c:\\users\\garge\\anaconda3\\lib\\site-packages (from requests>=2.7.0->quandl) (3.7)\n",
      "Requirement already satisfied: urllib3<3,>=1.21.1 in c:\\users\\garge\\anaconda3\\lib\\site-packages (from requests>=2.7.0->quandl) (2.2.2)\n",
      "Requirement already satisfied: certifi>=2017.4.17 in c:\\users\\garge\\anaconda3\\lib\\site-packages (from requests>=2.7.0->quandl) (2024.8.30)\n",
      "Downloading Quandl-3.7.0-py2.py3-none-any.whl (26 kB)\n",
      "Installing collected packages: quandl\n",
      "Successfully installed quandl-3.7.0\n"
     ]
    }
   ],
   "source": [
    "!pip install quandl"
   ]
  },
  {
   "cell_type": "code",
   "execution_count": 3,
   "id": "76a54ec2-f5af-4ba7-a4a4-596c778930c8",
   "metadata": {},
   "outputs": [],
   "source": [
    "import quandl"
   ]
  },
  {
   "cell_type": "code",
   "execution_count": null,
   "id": "8f3928b2-45a3-4ebd-9aae-23db400f1f5d",
   "metadata": {},
   "outputs": [],
   "source": []
  }
 ],
 "metadata": {
  "kernelspec": {
   "display_name": "Python 3 (ipykernel)",
   "language": "python",
   "name": "python3"
  },
  "language_info": {
   "codemirror_mode": {
    "name": "ipython",
    "version": 3
   },
   "file_extension": ".py",
   "mimetype": "text/x-python",
   "name": "python",
   "nbconvert_exporter": "python",
   "pygments_lexer": "ipython3",
   "version": "3.12.4"
  }
 },
 "nbformat": 4,
 "nbformat_minor": 5
}
